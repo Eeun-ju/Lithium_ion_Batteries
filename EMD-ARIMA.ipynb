{
 "cells": [
  {
   "cell_type": "markdown",
   "metadata": {},
   "source": [
    "# EMD-ARIMA & ARIMA 모델을 적용한 SOH 예측"
   ]
  },
  {
   "cell_type": "markdown",
   "metadata": {},
   "source": [
    "### 모듈 불러오기"
   ]
  },
  {
   "cell_type": "code",
   "execution_count": 2,
   "metadata": {},
   "outputs": [],
   "source": [
    "import pandas as pd\n",
    "import numpy as np\n",
    "import seaborn as sns\n",
    "import os\n",
    "\n",
    "import matplotlib as mpl\n",
    "import matplotlib.pyplot as plt\n",
    "\n",
    "import warnings\n",
    "warnings.filterwarnings(action = 'ignore')\n",
    "\n",
    "import statsmodels.api as sm"
   ]
  },
  {
   "cell_type": "code",
   "execution_count": 3,
   "metadata": {},
   "outputs": [],
   "source": [
    "from PyEMD import EMD,Visualisation, EEMD\n",
    "from statsmodels.tsa.arima.model import ARIMA\n",
    "from numpy.linalg import LinAlgError\n",
    "from pandas import Series"
   ]
  },
  {
   "cell_type": "markdown",
   "metadata": {},
   "source": [
    "### 데이터 불러오기"
   ]
  },
  {
   "cell_type": "markdown",
   "metadata": {},
   "source": [
    "사용 데이터는 그룹A의 데이터 배터리 5,6,7,18 "
   ]
  },
  {
   "cell_type": "code",
   "execution_count": 6,
   "metadata": {},
   "outputs": [],
   "source": [
    "bat_name = os.listdir('./data')"
   ]
  },
  {
   "cell_type": "code",
   "execution_count": 7,
   "metadata": {},
   "outputs": [
    {
     "data": {
      "text/plain": [
       "['B05_discharge.csv',\n",
       " 'B06_discharge.csv',\n",
       " 'B07_discharge.csv',\n",
       " 'B18_discharge.csv']"
      ]
     },
     "execution_count": 7,
     "metadata": {},
     "output_type": "execute_result"
    }
   ],
   "source": [
    "bat_name"
   ]
  },
  {
   "cell_type": "code",
   "execution_count": 8,
   "metadata": {},
   "outputs": [],
   "source": [
    "data = pd.read_csv('./data/%s'%bat_name[1],engine = 'python') # 5번 배터리 데이터\n",
    "\n",
    "b005 = pd.read_csv('./data/%s'%bat_name[0],engine = 'python') # 5번 배터리 데이터\n",
    "b006 = pd.read_csv('./data/%s'%bat_name[1],engine = 'python') # 6번 배터리 데이터\n",
    "b007 = pd.read_csv('./data/%s'%bat_name[2],engine = 'python') # 7번 배터리 데이터\n",
    "b018 = pd.read_csv('./data/%s'%bat_name[3],engine = 'python') # 18번 배터리 데이터\n",
    "\n",
    "canonical_capacity = 2\n",
    "soh_data = b005['capacity']/canonical_capacity\n",
    "l = len(b005.columns)\n",
    "b005.insert(l,'SOH',soh_data)\n",
    "\n",
    "soh_data = b006['capacity']/canonical_capacity\n",
    "l = len(b006.columns)\n",
    "b006.insert(l,'SOH',soh_data)\n",
    "\n",
    "soh_data = b007['capacity']/canonical_capacity\n",
    "l = len(b007.columns)\n",
    "b007.insert(l,'SOH',soh_data)\n",
    "\n",
    "soh_data = b018['capacity']/canonical_capacity\n",
    "l = len(b018.columns)\n",
    "b018.insert(l,'SOH',soh_data)\n"
   ]
  },
  {
   "cell_type": "markdown",
   "metadata": {},
   "source": [
    "<h5> 배터리 5 : b005<br><br>\n",
    "     배터리 6 : b006<br><br>\n",
    "     배터리 7 : b007<br><br>\n",
    "     배터리 18 : b018\n",
    "    \n",
    "    "
   ]
  },
  {
   "cell_type": "markdown",
   "metadata": {},
   "source": [
    "## SOH 계산 - column 추가"
   ]
  },
  {
   "cell_type": "code",
   "execution_count": 9,
   "metadata": {},
   "outputs": [],
   "source": [
    "canonical_capacity = 2\n",
    "soh_data = data['capacity']/canonical_capacity\n",
    "\n",
    "l = len(data.columns)\n",
    "data.insert(l,'SOH',soh_data)"
   ]
  },
  {
   "cell_type": "code",
   "execution_count": 10,
   "metadata": {
    "scrolled": true
   },
   "outputs": [
    {
     "data": {
      "text/html": [
       "<div>\n",
       "<style scoped>\n",
       "    .dataframe tbody tr th:only-of-type {\n",
       "        vertical-align: middle;\n",
       "    }\n",
       "\n",
       "    .dataframe tbody tr th {\n",
       "        vertical-align: top;\n",
       "    }\n",
       "\n",
       "    .dataframe thead th {\n",
       "        text-align: right;\n",
       "    }\n",
       "</style>\n",
       "<table border=\"1\" class=\"dataframe\">\n",
       "  <thead>\n",
       "    <tr style=\"text-align: right;\">\n",
       "      <th></th>\n",
       "      <th>terminal_voltage</th>\n",
       "      <th>terminal_current</th>\n",
       "      <th>temperature</th>\n",
       "      <th>charge_current</th>\n",
       "      <th>charge_voltage</th>\n",
       "      <th>time</th>\n",
       "      <th>capacity</th>\n",
       "      <th>cycle</th>\n",
       "      <th>SOH</th>\n",
       "    </tr>\n",
       "  </thead>\n",
       "  <tbody>\n",
       "    <tr>\n",
       "      <th>0</th>\n",
       "      <td>4.179800</td>\n",
       "      <td>-0.002366</td>\n",
       "      <td>24.277568</td>\n",
       "      <td>-0.0006</td>\n",
       "      <td>0.000</td>\n",
       "      <td>0.000</td>\n",
       "      <td>2.035338</td>\n",
       "      <td>1</td>\n",
       "      <td>1.017669</td>\n",
       "    </tr>\n",
       "    <tr>\n",
       "      <th>1</th>\n",
       "      <td>4.179823</td>\n",
       "      <td>0.000434</td>\n",
       "      <td>24.277073</td>\n",
       "      <td>-0.0006</td>\n",
       "      <td>4.195</td>\n",
       "      <td>16.781</td>\n",
       "      <td>2.035338</td>\n",
       "      <td>1</td>\n",
       "      <td>1.017669</td>\n",
       "    </tr>\n",
       "    <tr>\n",
       "      <th>2</th>\n",
       "      <td>3.966528</td>\n",
       "      <td>-2.014242</td>\n",
       "      <td>24.366226</td>\n",
       "      <td>-1.9990</td>\n",
       "      <td>3.070</td>\n",
       "      <td>35.703</td>\n",
       "      <td>2.035338</td>\n",
       "      <td>1</td>\n",
       "      <td>1.017669</td>\n",
       "    </tr>\n",
       "    <tr>\n",
       "      <th>3</th>\n",
       "      <td>3.945886</td>\n",
       "      <td>-2.008730</td>\n",
       "      <td>24.515123</td>\n",
       "      <td>-1.9990</td>\n",
       "      <td>3.045</td>\n",
       "      <td>53.781</td>\n",
       "      <td>2.035338</td>\n",
       "      <td>1</td>\n",
       "      <td>1.017669</td>\n",
       "    </tr>\n",
       "    <tr>\n",
       "      <th>4</th>\n",
       "      <td>3.930354</td>\n",
       "      <td>-2.013381</td>\n",
       "      <td>24.676053</td>\n",
       "      <td>-1.9990</td>\n",
       "      <td>3.026</td>\n",
       "      <td>71.922</td>\n",
       "      <td>2.035338</td>\n",
       "      <td>1</td>\n",
       "      <td>1.017669</td>\n",
       "    </tr>\n",
       "    <tr>\n",
       "      <th>50280</th>\n",
       "      <td>3.689577</td>\n",
       "      <td>-0.001671</td>\n",
       "      <td>32.367946</td>\n",
       "      <td>0.0006</td>\n",
       "      <td>0.000</td>\n",
       "      <td>2781.312</td>\n",
       "      <td>1.185675</td>\n",
       "      <td>168</td>\n",
       "      <td>0.592838</td>\n",
       "    </tr>\n",
       "    <tr>\n",
       "      <th>50281</th>\n",
       "      <td>3.690020</td>\n",
       "      <td>-0.001914</td>\n",
       "      <td>32.464485</td>\n",
       "      <td>0.0006</td>\n",
       "      <td>0.000</td>\n",
       "      <td>2791.062</td>\n",
       "      <td>1.185675</td>\n",
       "      <td>168</td>\n",
       "      <td>0.592838</td>\n",
       "    </tr>\n",
       "    <tr>\n",
       "      <th>50282</th>\n",
       "      <td>3.690708</td>\n",
       "      <td>-0.002706</td>\n",
       "      <td>32.337187</td>\n",
       "      <td>0.0006</td>\n",
       "      <td>0.000</td>\n",
       "      <td>2800.828</td>\n",
       "      <td>1.185675</td>\n",
       "      <td>168</td>\n",
       "      <td>0.592838</td>\n",
       "    </tr>\n",
       "    <tr>\n",
       "      <th>50283</th>\n",
       "      <td>3.691356</td>\n",
       "      <td>-0.002952</td>\n",
       "      <td>32.252598</td>\n",
       "      <td>0.0006</td>\n",
       "      <td>0.000</td>\n",
       "      <td>2810.640</td>\n",
       "      <td>1.185675</td>\n",
       "      <td>168</td>\n",
       "      <td>0.592838</td>\n",
       "    </tr>\n",
       "    <tr>\n",
       "      <th>50284</th>\n",
       "      <td>3.691809</td>\n",
       "      <td>-0.003127</td>\n",
       "      <td>32.192324</td>\n",
       "      <td>0.0006</td>\n",
       "      <td>0.000</td>\n",
       "      <td>2820.390</td>\n",
       "      <td>1.185675</td>\n",
       "      <td>168</td>\n",
       "      <td>0.592838</td>\n",
       "    </tr>\n",
       "  </tbody>\n",
       "</table>\n",
       "</div>"
      ],
      "text/plain": [
       "       terminal_voltage  terminal_current  temperature  charge_current  \\\n",
       "0              4.179800         -0.002366    24.277568         -0.0006   \n",
       "1              4.179823          0.000434    24.277073         -0.0006   \n",
       "2              3.966528         -2.014242    24.366226         -1.9990   \n",
       "3              3.945886         -2.008730    24.515123         -1.9990   \n",
       "4              3.930354         -2.013381    24.676053         -1.9990   \n",
       "50280          3.689577         -0.001671    32.367946          0.0006   \n",
       "50281          3.690020         -0.001914    32.464485          0.0006   \n",
       "50282          3.690708         -0.002706    32.337187          0.0006   \n",
       "50283          3.691356         -0.002952    32.252598          0.0006   \n",
       "50284          3.691809         -0.003127    32.192324          0.0006   \n",
       "\n",
       "       charge_voltage      time  capacity  cycle       SOH  \n",
       "0               0.000     0.000  2.035338      1  1.017669  \n",
       "1               4.195    16.781  2.035338      1  1.017669  \n",
       "2               3.070    35.703  2.035338      1  1.017669  \n",
       "3               3.045    53.781  2.035338      1  1.017669  \n",
       "4               3.026    71.922  2.035338      1  1.017669  \n",
       "50280           0.000  2781.312  1.185675    168  0.592838  \n",
       "50281           0.000  2791.062  1.185675    168  0.592838  \n",
       "50282           0.000  2800.828  1.185675    168  0.592838  \n",
       "50283           0.000  2810.640  1.185675    168  0.592838  \n",
       "50284           0.000  2820.390  1.185675    168  0.592838  "
      ]
     },
     "execution_count": 10,
     "metadata": {},
     "output_type": "execute_result"
    }
   ],
   "source": [
    "pd.concat([data.head(),data.tail()],axis = 0)"
   ]
  },
  {
   "cell_type": "code",
   "execution_count": 11,
   "metadata": {},
   "outputs": [
    {
     "data": {
      "image/png": "[encoded data removed]",
      "text/plain": [
       "<Figure size 432x288 with 1 Axes>"
      ]
     },
     "metadata": {
      "needs_background": "light"
     },
     "output_type": "display_data"
    }
   ],
   "source": [
    "soh_list = data[data['time'] == 0]['SOH']\n",
    "\n",
    "plt.scatter(range(168),soh_list)\n",
    "plt.plot(range(168),[0.7 for i in range(168)],color = 'red')\n",
    "plt.legend('%ssoh'%'BOOO5')\n",
    "plt.title('SOH B0005')\n",
    "plt.show()"
   ]
  },
  {
   "cell_type": "markdown",
   "metadata": {},
   "source": [
    "## Threshold 0.7까지 남은 cycle수 (Remaining Useful Life)와 SOH 예측 목표"
   ]
  },
  {
   "cell_type": "markdown",
   "metadata": {},
   "source": [
    "### Cycle 단위로 데이터의 분포 확인"
   ]
  },
  {
   "cell_type": "code",
   "execution_count": 12,
   "metadata": {},
   "outputs": [],
   "source": [
    "times = []\n",
    "for i in range(1,169):\n",
    "    times.append(list(data[data['cycle']==i]['time'])[-1])"
   ]
  },
  {
   "cell_type": "code",
   "execution_count": 13,
   "metadata": {},
   "outputs": [
    {
     "data": {
      "text/plain": [
       "Text(0.5, 1.0, 'Times of Cycles')"
      ]
     },
     "execution_count": 13,
     "metadata": {},
     "output_type": "execute_result"
    },
    {
     "data": {
      "image/png": "[encoded data removed]",
      "text/plain": [
       "<Figure size 432x288 with 1 Axes>"
      ]
     },
     "metadata": {
      "needs_background": "light"
     },
     "output_type": "display_data"
    }
   ],
   "source": [
    "plt.scatter(range(168),times)\n",
    "plt.legend('B0005 Times')\n",
    "plt.title('Times of Cycles')"
   ]
  },
  {
   "cell_type": "markdown",
   "metadata": {},
   "source": [
    "SOH의 변화와 Cycle 관찰 시간의 패턴이 유사함을 보인다. "
   ]
  },
  {
   "cell_type": "markdown",
   "metadata": {},
   "source": [
    "**외부요인인 Time에 대한 통제 후 데이터를 다시 관찰하면 다른 패턴을 보일 것이라고 예상할 수 있다.비슷한 패턴이 나온 이유는 capacity 계산 과정 중 시간에 대한 적분이 들어갔기 때문이다. 계산을 통해 변수들의 관계가 종속적인 특징을 갖게 되었다.**"
   ]
  },
  {
   "cell_type": "markdown",
   "metadata": {},
   "source": [
    "**시간을 예측하기란 굉장히 어렵다. 하지만 여기서의 시간은 방전 시간으로 cycle이 증가함에 따라 시간은 감소하고 결국 SOH의 예측은 방전 시간의 예측으로 연결된다. 따라서 SOH 단일 변수로 배터리의 성능을 예측한 본 논문을 분석할때 외부요인인 시간 통제에 대해서는 무시하고 예측을 진행한다.**"
   ]
  },
  {
   "cell_type": "markdown",
   "metadata": {},
   "source": [
    "### Model 1. EMD -ARIMA"
   ]
  },
  {
   "cell_type": "markdown",
   "metadata": {},
   "source": [
    "배터리 - 5"
   ]
  },
  {
   "cell_type": "code",
   "execution_count": 14,
   "metadata": {},
   "outputs": [],
   "source": [
    "cycles = len(soh_list)\n",
    "\n",
    "starting_point = 100"
   ]
  },
  {
   "cell_type": "code",
   "execution_count": 15,
   "metadata": {},
   "outputs": [],
   "source": [
    "## 데이터 선택\n",
    "soh_list = b005[b005['time'] == 0]['SOH']*100"
   ]
  },
  {
   "cell_type": "code",
   "execution_count": 16,
   "metadata": {},
   "outputs": [],
   "source": [
    "train = soh_list[:starting_point]\n",
    "test = soh_list[starting_point:]"
   ]
  },
  {
   "cell_type": "code",
   "execution_count": 17,
   "metadata": {},
   "outputs": [
    {
     "data": {
      "text/plain": [
       "array([[ 4.06770691e-01,  3.32242397e-02, -3.54014981e-01,\n",
       "        -1.93643206e-01, -7.10454466e-02,  1.10565069e-01,\n",
       "         1.90040703e-01, -1.75536604e-01, -9.85688377e-02,\n",
       "         3.90395565e-02,  1.93693838e-01, -1.81203596e-01,\n",
       "        -6.65490404e-02,  1.16124143e-01, -1.13041319e-01,\n",
       "         1.84649410e-01,  3.05596756e-01,  9.53002506e-04,\n",
       "        -6.86381384e-01,  8.05165251e-01,  3.97448086e-01,\n",
       "        -2.12061754e-01, -5.32363681e-01, -2.60029751e-01,\n",
       "         1.38143209e-01, -8.26640450e-02,  2.01231075e-01,\n",
       "         1.33205889e-01, -6.80140321e-01, -9.82922733e-01,\n",
       "         1.06187599e+00, -6.06988992e-02, -3.90472142e-01,\n",
       "        -5.00190700e-01, -1.87197050e-01,  8.84420277e-02,\n",
       "        -3.50929625e-02,  6.63889245e-02, -9.98552479e-02,\n",
       "         9.75010576e-02, -2.73937535e-02, -1.53100011e-01,\n",
       "         3.13598863e-01,  2.02393498e-01, -3.05741528e-01,\n",
       "        -8.58906893e-01, -1.30421803e+00,  1.35364304e+00,\n",
       "         7.03528433e-01, -7.38906352e-02, -4.17749714e-01,\n",
       "        -5.74551700e-01, -3.11097795e-01,  1.33956868e-02,\n",
       "         5.35597525e-02, -1.90393330e-02,  7.88896705e-02,\n",
       "         1.56575606e-01,  1.57240989e-01,  1.73765522e-01,\n",
       "         1.78742727e-02, -1.75661389e-01,  1.34939069e-01,\n",
       "        -1.02010069e-01,  4.44838302e-03,  1.04996123e-01,\n",
       "        -1.13941694e-01, -4.83734999e-02, -1.71713004e-02,\n",
       "         2.91866955e-02,  7.75509788e-02, -8.19469563e-02,\n",
       "         7.74020731e-02,  1.58216238e-01, -1.78654613e-01,\n",
       "        -2.94217409e-01, -2.67362370e-01,  3.90315221e-01,\n",
       "        -3.72331888e-01, -4.38026366e-01, -1.69653491e-01,\n",
       "         3.70787659e-01,  6.41661442e-01,  7.43547267e-01,\n",
       "         4.22004120e-01, -9.38516549e-02, -2.89969011e-01,\n",
       "        -1.02391765e+00, -1.82600904e+00,  2.07317688e+00,\n",
       "        -4.17478173e-01, -1.46460721e+00, -2.39127903e+00,\n",
       "        -2.69946020e+00, -3.14699646e+00, -3.27300240e+00,\n",
       "        -3.35251365e+00, -3.37061764e+00, -3.64173746e+00,\n",
       "        -3.61005144e+00],\n",
       "       [ 1.02731499e+00,  9.47288921e-01,  8.39672999e-01,\n",
       "         7.28096873e-01,  6.26328011e-01,  5.45225603e-01,\n",
       "         4.87164896e-01,  4.27425307e-01,  3.41890934e-01,\n",
       "         2.32732830e-01,  1.10241246e-01, -9.05515605e-03,\n",
       "        -1.25203372e-01, -3.08686780e-01, -6.13624998e-01,\n",
       "        -9.35133053e-01, -1.03952561e+00, -7.25892084e-01,\n",
       "        -7.76096709e-02,  6.08954853e-01,  9.91417490e-01,\n",
       "         9.83320744e-01,  7.19513630e-01,  3.45977145e-01,\n",
       "        -9.45011717e-02, -5.09041113e-01, -8.00270404e-01,\n",
       "        -7.96632547e-01, -5.39665738e-01, -1.30411908e-01,\n",
       "         2.97955499e-01,  5.07365468e-01,  5.00952170e-01,\n",
       "         3.44582203e-01,  1.07293548e-01, -8.78134997e-02,\n",
       "        -1.52553079e-01, -1.70707469e-01, -1.54490917e-01,\n",
       "        -4.07239818e-02,  8.14911041e-02,  1.09444506e-01,\n",
       "         2.76437928e-04, -1.13699474e-01, -1.75174719e-01,\n",
       "        -1.59836597e-01, -4.60253789e-02,  1.50001543e-01,\n",
       "         2.97109358e-01,  3.64168551e-01,  3.50714802e-01,\n",
       "         2.39157911e-01,  2.25056863e-02, -2.12732201e-01,\n",
       "        -3.70367452e-01, -4.18332377e-01, -3.71012941e-01,\n",
       "        -2.67692090e-01, -1.51732171e-01, -6.12468118e-02,\n",
       "        -6.64675266e-03,  3.54113345e-02,  8.56434198e-02,\n",
       "         1.20859822e-01,  1.03431292e-01,  5.14763550e-02,\n",
       "         6.22858459e-03, -5.39573347e-03,  5.48929084e-03,\n",
       "         1.29254926e-02, -1.04415236e-02, -8.16414080e-02,\n",
       "        -1.67269950e-01, -1.86503376e-01, -9.18846078e-02,\n",
       "         1.06080694e-01,  3.39369741e-01,  4.98934112e-01,\n",
       "         4.90566929e-01,  3.11354545e-01,  7.84769826e-03,\n",
       "        -3.52517172e-01, -6.98618912e-01, -9.59336369e-01,\n",
       "        -1.07272947e+00, -1.01223180e+00, -7.56698528e-01,\n",
       "        -3.13744041e-01,  2.13224183e-01,  6.99671107e-01,\n",
       "         1.05287379e+00,  1.27120848e+00,  1.37522370e+00,\n",
       "         1.38546800e+00,  1.32086768e+00,  1.19386014e+00,\n",
       "         1.01526053e+00,  7.95884022e-01,  5.46545767e-01,\n",
       "         2.78060927e-01],\n",
       "       [ 5.51575953e-02, -1.84740197e-02, -9.00431341e-02,\n",
       "        -1.58869976e-01, -2.24274775e-01, -2.85577759e-01,\n",
       "        -3.42099157e-01, -3.93159198e-01, -4.38078109e-01,\n",
       "        -4.76176120e-01, -5.06773459e-01, -5.29190356e-01,\n",
       "        -5.42747038e-01, -5.46763734e-01, -5.40572836e-01,\n",
       "        -5.23555395e-01, -4.95076772e-01, -4.54358792e-01,\n",
       "        -4.00466875e-01, -3.32434304e-01, -2.49294361e-01,\n",
       "        -1.50524729e-01, -3.80103120e-02,  8.34010960e-02,\n",
       "         2.08232079e-01,  3.31005223e-01,  4.46243110e-01,\n",
       "         5.47939822e-01,  6.27944955e-01,  6.77457745e-01,\n",
       "         6.87646964e-01,  6.49695889e-01,  5.56587728e-01,\n",
       "         4.10581786e-01,  2.24855047e-01,  1.48784351e-02,\n",
       "        -2.03877123e-01, -4.15940703e-01, -6.05346882e-01,\n",
       "        -7.53327999e-01, -8.37935135e-01, -8.38826446e-01,\n",
       "        -7.43629985e-01, -5.69665529e-01, -3.41969201e-01,\n",
       "        -8.45961746e-02,  1.80982333e-01,  4.33911482e-01,\n",
       "         6.53298341e-01,  8.18093781e-01,  9.10870938e-01,\n",
       "         9.31328828e-01,  8.92529656e-01,  8.09878556e-01,\n",
       "         6.98759604e-01,  5.74556879e-01,  4.50621439e-01,\n",
       "         3.32060721e-01,  2.21502938e-01,  1.21464750e-01,\n",
       "         3.41636616e-02, -3.93794407e-02, -9.84428272e-02,\n",
       "        -1.42304768e-01, -1.69940564e-01, -1.81097609e-01,\n",
       "        -1.83156195e-01, -1.85347895e-01, -1.94810209e-01,\n",
       "        -2.12294630e-01, -2.37156421e-01, -2.69419242e-01,\n",
       "        -3.09273854e-01, -3.56911018e-01, -4.11685228e-01,\n",
       "        -4.69605909e-01, -5.25846223e-01, -5.75579330e-01,\n",
       "        -6.14453568e-01, -6.40017986e-01, -6.50296813e-01,\n",
       "        -6.43314277e-01, -6.17097509e-01, -5.69685252e-01,\n",
       "        -4.99119153e-01, -4.04791504e-01, -2.91570364e-01,\n",
       "        -1.65967187e-01, -3.45005852e-02,  9.65749476e-02,\n",
       "         2.21070945e-01,  3.32798943e-01,  4.25570474e-01,\n",
       "         4.93197073e-01,  5.31112504e-01,  5.41239452e-01,\n",
       "         5.27220911e-01,  4.93092196e-01,  4.42986704e-01,\n",
       "         3.81037831e-01],\n",
       "       [ 9.13351278e+01,  9.13543234e+01,  9.13718448e+01,\n",
       "         9.13875427e+01,  9.14012676e+01,  9.14128701e+01,\n",
       "         9.14222007e+01,  9.14291100e+01,  9.14334487e+01,\n",
       "         9.14350671e+01,  9.14338160e+01,  9.14295459e+01,\n",
       "         9.14221073e+01,  9.14113509e+01,  9.13971394e+01,\n",
       "         9.13793840e+01,  9.13579807e+01,  9.13327136e+01,\n",
       "         9.13033392e+01,  9.12696140e+01,  9.12312943e+01,\n",
       "         9.11881368e+01,  9.11398978e+01,  9.10863337e+01,\n",
       "         9.10272011e+01,  9.09622563e+01,  9.08912559e+01,\n",
       "         9.08139563e+01,  9.07301444e+01,  9.06397289e+01,\n",
       "         9.05426491e+01,  9.04388298e+01,  9.03281377e+01,\n",
       "         9.02104249e+01,  9.00855437e+01,  8.99533463e+01,\n",
       "         8.98136849e+01,  8.96664116e+01,  8.95113788e+01,\n",
       "         8.93484387e+01,  8.91774433e+01,  8.89982355e+01,\n",
       "         8.88106193e+01,  8.86143895e+01,  8.84094098e+01,\n",
       "         8.81958199e+01,  8.79738286e+01,  8.77436447e+01,\n",
       "         8.75055150e+01,  8.72598387e+01,  8.70070532e+01,\n",
       "         8.67475959e+01,  8.64819250e+01,  8.62105833e+01,\n",
       "         8.59341343e+01,  8.56531418e+01,  8.53681694e+01,\n",
       "         8.50797808e+01,  8.47885396e+01,  8.44950095e+01,\n",
       "         8.41997543e+01,  8.39033374e+01,  8.36063227e+01,\n",
       "         8.33092738e+01,  8.30127543e+01,  8.27173280e+01,\n",
       "         8.24235584e+01,  8.21320093e+01,  8.18432443e+01,\n",
       "         8.15578270e+01,  8.12763213e+01,  8.09992906e+01,\n",
       "         8.07272987e+01,  8.04609093e+01,  8.02006860e+01,\n",
       "         7.99471925e+01,  7.97009924e+01,  7.94626494e+01,\n",
       "         7.92327273e+01,  7.90117896e+01,  7.88004000e+01,\n",
       "         7.85991221e+01,  7.84085227e+01,  7.82291798e+01,\n",
       "         7.80616745e+01,  7.79065879e+01,  7.77645011e+01,\n",
       "         7.76359951e+01,  7.75215851e+01,  7.74215220e+01,\n",
       "         7.73359907e+01,  7.72651760e+01,  7.72092630e+01,\n",
       "         7.71684365e+01,  7.71428814e+01,  7.71327826e+01,\n",
       "         7.71382270e+01,  7.71589091e+01,  7.71944252e+01,\n",
       "         7.72443719e+01]])"
      ]
     },
     "execution_count": 17,
     "metadata": {},
     "output_type": "execute_result"
    }
   ],
   "source": [
    "emd = EMD()\n",
    "emd.emd(train.values,max_imf = 4)"
   ]
  },
  {
   "cell_type": "code",
   "execution_count": 18,
   "metadata": {},
   "outputs": [
    {
     "name": "stdout",
     "output_type": "stream",
     "text": [
      "(4, 100) (100,)\n"
     ]
    }
   ],
   "source": [
    "imfs, res = emd.get_imfs_and_residue()\n",
    "print(imfs.shape,res.shape)"
   ]
  },
  {
   "cell_type": "code",
   "execution_count": 19,
   "metadata": {},
   "outputs": [],
   "source": [
    "vis = Visualisation()\n",
    "t = range(len(train))"
   ]
  },
  {
   "cell_type": "code",
   "execution_count": 20,
   "metadata": {},
   "outputs": [
    {
     "data": {
      "image/png": "[encoded data removed]",
      "text/plain": [
       "<Figure size 432x540 with 5 Axes>"
      ]
     },
     "metadata": {
      "needs_background": "light"
     },
     "output_type": "display_data"
    }
   ],
   "source": [
    "vis.plot_imfs(imfs = imfs, residue = res, t = t, include_residue = True)\n",
    "vis.show()"
   ]
  },
  {
   "cell_type": "markdown",
   "metadata": {},
   "source": [
    "신호 분석을 통해 신호의 모양이 분해된 것을 확인"
   ]
  },
  {
   "cell_type": "markdown",
   "metadata": {},
   "source": [
    "### level - IMF ARIMA model prediction"
   ]
  },
  {
   "cell_type": "markdown",
   "metadata": {},
   "source": [
    "#### C1"
   ]
  },
  {
   "cell_type": "code",
   "execution_count": 21,
   "metadata": {},
   "outputs": [],
   "source": [
    "train_set = Series(imfs[0],index=range(starting_point))"
   ]
  },
  {
   "cell_type": "code",
   "execution_count": 22,
   "metadata": {},
   "outputs": [],
   "source": [
    "mod = sm.tsa.ARIMA(train_set,(2,0,0)).fit()"
   ]
  },
  {
   "cell_type": "code",
   "execution_count": 23,
   "metadata": {},
   "outputs": [],
   "source": [
    "forecaste_size = cycles-starting_point\n",
    "\n",
    "fore = mod.forecast(steps = forecaste_size)\n",
    "#fore = mod.forecast(steps = 30)"
   ]
  },
  {
   "cell_type": "code",
   "execution_count": 24,
   "metadata": {},
   "outputs": [],
   "source": [
    "c1_result = fore[0]"
   ]
  },
  {
   "cell_type": "markdown",
   "metadata": {},
   "source": [
    "#### C2"
   ]
  },
  {
   "cell_type": "code",
   "execution_count": 25,
   "metadata": {},
   "outputs": [],
   "source": [
    "train_set = Series(imfs[1],index=range(starting_point))\n",
    "mod = sm.tsa.ARIMA(train_set,(2,0,0)).fit()\n",
    "fore = mod.forecast(steps = forecaste_size)\n",
    "#fore = mod.forecast(steps = 30)"
   ]
  },
  {
   "cell_type": "code",
   "execution_count": 26,
   "metadata": {},
   "outputs": [],
   "source": [
    "c2_result = fore[0]"
   ]
  },
  {
   "cell_type": "markdown",
   "metadata": {},
   "source": [
    "#### C3"
   ]
  },
  {
   "cell_type": "code",
   "execution_count": 27,
   "metadata": {},
   "outputs": [],
   "source": [
    "train_set = Series(imfs[2],index=range(starting_point))\n",
    "mod = sm.tsa.ARIMA(train_set,(1,0,0)).fit()\n",
    "fore = mod.forecast(steps = forecaste_size)\n",
    "#fore = mod.forecast(steps = 30)"
   ]
  },
  {
   "cell_type": "code",
   "execution_count": 28,
   "metadata": {},
   "outputs": [],
   "source": [
    "c3_result = fore[0]"
   ]
  },
  {
   "cell_type": "markdown",
   "metadata": {},
   "source": [
    "#### C4"
   ]
  },
  {
   "cell_type": "code",
   "execution_count": 29,
   "metadata": {},
   "outputs": [],
   "source": [
    "train_set = Series(imfs[3],index=range(starting_point))\n",
    "mod = sm.tsa.ARIMA(train_set,(1,0,0)).fit()\n",
    "fore = mod.forecast(steps = forecaste_size)\n",
    "#fore = mod.forecast(steps = 30)"
   ]
  },
  {
   "cell_type": "code",
   "execution_count": 30,
   "metadata": {},
   "outputs": [],
   "source": [
    "c4_result = fore[0]"
   ]
  },
  {
   "cell_type": "markdown",
   "metadata": {},
   "source": [
    "#### R"
   ]
  },
  {
   "cell_type": "code",
   "execution_count": 31,
   "metadata": {},
   "outputs": [],
   "source": [
    "train_set = Series(res,index=range(starting_point))\n",
    "mod = sm.tsa.ARIMA(train_set,(0,1,0)).fit()\n",
    "fore = mod.forecast(steps = forecaste_size)\n",
    "#fore = mod.forecast(steps = 30)"
   ]
  },
  {
   "cell_type": "code",
   "execution_count": 32,
   "metadata": {},
   "outputs": [],
   "source": [
    "r_result = fore[0]"
   ]
  },
  {
   "cell_type": "code",
   "execution_count": 33,
   "metadata": {},
   "outputs": [],
   "source": [
    "result_data  = c1_result + c2_result + c3_result + r_result + c4_result"
   ]
  },
  {
   "cell_type": "code",
   "execution_count": 34,
   "metadata": {},
   "outputs": [],
   "source": [
    "emd_result = result_data"
   ]
  },
  {
   "cell_type": "code",
   "execution_count": 35,
   "metadata": {},
   "outputs": [],
   "source": [
    "#cycles = 130\n",
    "#forecaste_size = 30"
   ]
  },
  {
   "cell_type": "code",
   "execution_count": 36,
   "metadata": {
    "scrolled": true
   },
   "outputs": [
    {
     "data": {
      "text/plain": [
       "<matplotlib.legend.Legend at 0x198c4277da0>"
      ]
     },
     "execution_count": 36,
     "metadata": {},
     "output_type": "execute_result"
    },
    {
     "data": {
      "image/png": "[encoded data removed]",
      "text/plain": [
       "<Figure size 432x288 with 1 Axes>"
      ]
     },
     "metadata": {
      "needs_background": "light"
     },
     "output_type": "display_data"
    }
   ],
   "source": [
    "plt.plot(range(cycles),soh_list,color = 'blue')\n",
    "plt.plot(range(cycles),[70 for i in range(cycles)],color = 'black')\n",
    "plt.plot(range(starting_point,starting_point+forecaste_size,1),result_data ,color = 'red')\n",
    "#plt.plot(range(100,130,1),result_data ,color = 'red')\n",
    "plt.title('ARIMA Forecast')\n",
    "plt.legend(['True data','Threshold','Forecast'])"
   ]
  },
  {
   "cell_type": "code",
   "execution_count": null,
   "metadata": {},
   "outputs": [],
   "source": []
  }
 ],
 "metadata": {
  "kernelspec": {
   "display_name": "Python 3",
   "language": "python",
   "name": "python3"
  },
  "language_info": {
   "codemirror_mode": {
    "name": "ipython",
    "version": 3
   },
   "file_extension": ".py",
   "mimetype": "text/x-python",
   "name": "python",
   "nbconvert_exporter": "python",
   "pygments_lexer": "ipython3",
   "version": "3.7.1"
  }
 },
 "nbformat": 4,
 "nbformat_minor": 2
}
