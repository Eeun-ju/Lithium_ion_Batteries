{
 "cells": [
  {
   "cell_type": "markdown",
   "metadata": {},
   "source": [
    "# EMD-ARIMA & ARIMA 모델을 적용한 SOH 예측"
   ]
  },
  {
   "cell_type": "markdown",
   "metadata": {},
   "source": [
    "### 모듈 불러오기"
   ]
  },
  {
   "cell_type": "code",
   "execution_count": 3,
   "metadata": {},
   "outputs": [],
   "source": [
    "import pandas as pd\n",
    "import numpy as np\n",
    "import seaborn as sns\n",
    "import os\n",
    "\n",
    "import matplotlib as mpl\n",
    "import matplotlib.pyplot as plt\n",
    "\n",
    "import warnings\n",
    "warnings.filterwarnings(action = 'ignore')\n",
    "\n",
    "import statsmodels.api as sm"
   ]
  },
  {
   "cell_type": "code",
   "execution_count": 4,
   "metadata": {},
   "outputs": [],
   "source": [
    "from PyEMD import EMD,Visualisation, EEMD\n",
    "from statsmodels.tsa.arima.model import ARIMA\n",
    "from numpy.linalg import LinAlgError\n",
    "from pandas import Series"
   ]
  },
  {
   "cell_type": "markdown",
   "metadata": {},
   "source": [
    "### 데이터 불러오기"
   ]
  },
  {
   "cell_type": "markdown",
   "metadata": {},
   "source": [
    "사용 데이터는 그룹A의 데이터 배터리 5,6,7,18 "
   ]
  },
  {
   "cell_type": "code",
   "execution_count": 5,
   "metadata": {},
   "outputs": [],
   "source": [
    "bat_name = os.listdir('./data')"
   ]
  },
  {
   "cell_type": "code",
   "execution_count": 6,
   "metadata": {},
   "outputs": [
    {
     "data": {
      "text/plain": [
       "['B05_discharge.csv',\n",
       " 'B06_discharge.csv',\n",
       " 'B07_discharge.csv',\n",
       " 'B18_discharge.csv']"
      ]
     },
     "execution_count": 6,
     "metadata": {},
     "output_type": "execute_result"
    }
   ],
   "source": [
    "bat_name"
   ]
  },
  {
   "cell_type": "code",
   "execution_count": 7,
   "metadata": {},
   "outputs": [],
   "source": [
    "data = pd.read_csv('./data/%s'%bat_name[1],engine = 'python') # 5번 배터리 데이터\n",
    "\n",
    "b005 = pd.read_csv('./data/%s'%bat_name[0],engine = 'python') # 5번 배터리 데이터\n",
    "b006 = pd.read_csv('./data/%s'%bat_name[1],engine = 'python') # 6번 배터리 데이터\n",
    "b007 = pd.read_csv('./data/%s'%bat_name[2],engine = 'python') # 7번 배터리 데이터\n",
    "b018 = pd.read_csv('./data/%s'%bat_name[3],engine = 'python') # 18번 배터리 데이터\n",
    "\n",
    "canonical_capacity = 2\n",
    "soh_data = b005['capacity']/canonical_capacity\n",
    "l = len(b005.columns)\n",
    "b005.insert(l,'SOH',soh_data)\n",
    "\n",
    "soh_data = b006['capacity']/canonical_capacity\n",
    "l = len(b006.columns)\n",
    "b006.insert(l,'SOH',soh_data)\n",
    "\n",
    "soh_data = b007['capacity']/canonical_capacity\n",
    "l = len(b007.columns)\n",
    "b007.insert(l,'SOH',soh_data)\n",
    "\n",
    "soh_data = b018['capacity']/canonical_capacity\n",
    "l = len(b018.columns)\n",
    "b018.insert(l,'SOH',soh_data)\n"
   ]
  },
  {
   "cell_type": "markdown",
   "metadata": {},
   "source": [
    "<h5> 배터리 5 : b005<br><br>\n",
    "     배터리 6 : b006<br><br>\n",
    "     배터리 7 : b007<br><br>\n",
    "     배터리 18 : b018\n",
    "    \n",
    "    "
   ]
  },
  {
   "cell_type": "markdown",
   "metadata": {},
   "source": [
    "## SOH 계산 - column 추가"
   ]
  },
  {
   "cell_type": "code",
   "execution_count": 8,
   "metadata": {},
   "outputs": [],
   "source": [
    "canonical_capacity = 2\n",
    "soh_data = data['capacity']/canonical_capacity\n",
    "\n",
    "l = len(data.columns)\n",
    "data.insert(l,'SOH',soh_data)"
   ]
  },
  {
   "cell_type": "code",
   "execution_count": 9,
   "metadata": {
    "scrolled": true
   },
   "outputs": [
    {
     "data": {
      "text/html": [
       "<div>\n",
       "<style scoped>\n",
       "    .dataframe tbody tr th:only-of-type {\n",
       "        vertical-align: middle;\n",
       "    }\n",
       "\n",
       "    .dataframe tbody tr th {\n",
       "        vertical-align: top;\n",
       "    }\n",
       "\n",
       "    .dataframe thead th {\n",
       "        text-align: right;\n",
       "    }\n",
       "</style>\n",
       "<table border=\"1\" class=\"dataframe\">\n",
       "  <thead>\n",
       "    <tr style=\"text-align: right;\">\n",
       "      <th></th>\n",
       "      <th>terminal_voltage</th>\n",
       "      <th>terminal_current</th>\n",
       "      <th>temperature</th>\n",
       "      <th>charge_current</th>\n",
       "      <th>charge_voltage</th>\n",
       "      <th>time</th>\n",
       "      <th>capacity</th>\n",
       "      <th>cycle</th>\n",
       "      <th>SOH</th>\n",
       "    </tr>\n",
       "  </thead>\n",
       "  <tbody>\n",
       "    <tr>\n",
       "      <th>0</th>\n",
       "      <td>4.179800</td>\n",
       "      <td>-0.002366</td>\n",
       "      <td>24.277568</td>\n",
       "      <td>-0.0006</td>\n",
       "      <td>0.000</td>\n",
       "      <td>0.000</td>\n",
       "      <td>2.035338</td>\n",
       "      <td>1</td>\n",
       "      <td>1.017669</td>\n",
       "    </tr>\n",
       "    <tr>\n",
       "      <th>1</th>\n",
       "      <td>4.179823</td>\n",
       "      <td>0.000434</td>\n",
       "      <td>24.277073</td>\n",
       "      <td>-0.0006</td>\n",
       "      <td>4.195</td>\n",
       "      <td>16.781</td>\n",
       "      <td>2.035338</td>\n",
       "      <td>1</td>\n",
       "      <td>1.017669</td>\n",
       "    </tr>\n",
       "    <tr>\n",
       "      <th>2</th>\n",
       "      <td>3.966528</td>\n",
       "      <td>-2.014242</td>\n",
       "      <td>24.366226</td>\n",
       "      <td>-1.9990</td>\n",
       "      <td>3.070</td>\n",
       "      <td>35.703</td>\n",
       "      <td>2.035338</td>\n",
       "      <td>1</td>\n",
       "      <td>1.017669</td>\n",
       "    </tr>\n",
       "    <tr>\n",
       "      <th>3</th>\n",
       "      <td>3.945886</td>\n",
       "      <td>-2.008730</td>\n",
       "      <td>24.515123</td>\n",
       "      <td>-1.9990</td>\n",
       "      <td>3.045</td>\n",
       "      <td>53.781</td>\n",
       "      <td>2.035338</td>\n",
       "      <td>1</td>\n",
       "      <td>1.017669</td>\n",
       "    </tr>\n",
       "    <tr>\n",
       "      <th>4</th>\n",
       "      <td>3.930354</td>\n",
       "      <td>-2.013381</td>\n",
       "      <td>24.676053</td>\n",
       "      <td>-1.9990</td>\n",
       "      <td>3.026</td>\n",
       "      <td>71.922</td>\n",
       "      <td>2.035338</td>\n",
       "      <td>1</td>\n",
       "      <td>1.017669</td>\n",
       "    </tr>\n",
       "    <tr>\n",
       "      <th>50280</th>\n",
       "      <td>3.689577</td>\n",
       "      <td>-0.001671</td>\n",
       "      <td>32.367946</td>\n",
       "      <td>0.0006</td>\n",
       "      <td>0.000</td>\n",
       "      <td>2781.312</td>\n",
       "      <td>1.185675</td>\n",
       "      <td>168</td>\n",
       "      <td>0.592838</td>\n",
       "    </tr>\n",
       "    <tr>\n",
       "      <th>50281</th>\n",
       "      <td>3.690020</td>\n",
       "      <td>-0.001914</td>\n",
       "      <td>32.464485</td>\n",
       "      <td>0.0006</td>\n",
       "      <td>0.000</td>\n",
       "      <td>2791.062</td>\n",
       "      <td>1.185675</td>\n",
       "      <td>168</td>\n",
       "      <td>0.592838</td>\n",
       "    </tr>\n",
       "    <tr>\n",
       "      <th>50282</th>\n",
       "      <td>3.690708</td>\n",
       "      <td>-0.002706</td>\n",
       "      <td>32.337187</td>\n",
       "      <td>0.0006</td>\n",
       "      <td>0.000</td>\n",
       "      <td>2800.828</td>\n",
       "      <td>1.185675</td>\n",
       "      <td>168</td>\n",
       "      <td>0.592838</td>\n",
       "    </tr>\n",
       "    <tr>\n",
       "      <th>50283</th>\n",
       "      <td>3.691356</td>\n",
       "      <td>-0.002952</td>\n",
       "      <td>32.252598</td>\n",
       "      <td>0.0006</td>\n",
       "      <td>0.000</td>\n",
       "      <td>2810.640</td>\n",
       "      <td>1.185675</td>\n",
       "      <td>168</td>\n",
       "      <td>0.592838</td>\n",
       "    </tr>\n",
       "    <tr>\n",
       "      <th>50284</th>\n",
       "      <td>3.691809</td>\n",
       "      <td>-0.003127</td>\n",
       "      <td>32.192324</td>\n",
       "      <td>0.0006</td>\n",
       "      <td>0.000</td>\n",
       "      <td>2820.390</td>\n",
       "      <td>1.185675</td>\n",
       "      <td>168</td>\n",
       "      <td>0.592838</td>\n",
       "    </tr>\n",
       "  </tbody>\n",
       "</table>\n",
       "</div>"
      ],
      "text/plain": [
       "       terminal_voltage  terminal_current  temperature  charge_current  \\\n",
       "0              4.179800         -0.002366    24.277568         -0.0006   \n",
       "1              4.179823          0.000434    24.277073         -0.0006   \n",
       "2              3.966528         -2.014242    24.366226         -1.9990   \n",
       "3              3.945886         -2.008730    24.515123         -1.9990   \n",
       "4              3.930354         -2.013381    24.676053         -1.9990   \n",
       "50280          3.689577         -0.001671    32.367946          0.0006   \n",
       "50281          3.690020         -0.001914    32.464485          0.0006   \n",
       "50282          3.690708         -0.002706    32.337187          0.0006   \n",
       "50283          3.691356         -0.002952    32.252598          0.0006   \n",
       "50284          3.691809         -0.003127    32.192324          0.0006   \n",
       "\n",
       "       charge_voltage      time  capacity  cycle       SOH  \n",
       "0               0.000     0.000  2.035338      1  1.017669  \n",
       "1               4.195    16.781  2.035338      1  1.017669  \n",
       "2               3.070    35.703  2.035338      1  1.017669  \n",
       "3               3.045    53.781  2.035338      1  1.017669  \n",
       "4               3.026    71.922  2.035338      1  1.017669  \n",
       "50280           0.000  2781.312  1.185675    168  0.592838  \n",
       "50281           0.000  2791.062  1.185675    168  0.592838  \n",
       "50282           0.000  2800.828  1.185675    168  0.592838  \n",
       "50283           0.000  2810.640  1.185675    168  0.592838  \n",
       "50284           0.000  2820.390  1.185675    168  0.592838  "
      ]
     },
     "execution_count": 9,
     "metadata": {},
     "output_type": "execute_result"
    }
   ],
   "source": [
    "pd.concat([data.head(),data.tail()],axis = 0)"
   ]
  },
  {
   "cell_type": "code",
   "execution_count": 30,
   "metadata": {},
   "outputs": [
    {
     "data": {
      "image/png": "[encoded data removed]",
      "text/plain": [
       "<Figure size 432x288 with 1 Axes>"
      ]
     },
     "metadata": {
      "needs_background": "light"
     },
     "output_type": "display_data"
    }
   ],
   "source": [
    "soh_list = data[data['time'] == 0]['SOH']\n",
    "\n",
    "plt.scatter(range(168),soh_list)\n",
    "plt.plot(range(168),[0.7 for i in range(168)],color = 'red')\n",
    "plt.legend('%ssoh'%'BOOO5')\n",
    "plt.title('SOH B0005')\n",
    "plt.show()"
   ]
  },
  {
   "cell_type": "markdown",
   "metadata": {},
   "source": [
    "## Threshold 0.7까지 남은 cycle수 (Remaining Useful Life)와 SOH 예측 목표"
   ]
  },
  {
   "cell_type": "markdown",
   "metadata": {},
   "source": [
    "### Cycle 단위로 데이터의 분포 확인"
   ]
  },
  {
   "cell_type": "code",
   "execution_count": 24,
   "metadata": {},
   "outputs": [],
   "source": [
    "times = []\n",
    "for i in range(1,169):\n",
    "    times.append(list(data[data['cycle']==i]['time'])[-1])"
   ]
  },
  {
   "cell_type": "code",
   "execution_count": 32,
   "metadata": {},
   "outputs": [
    {
     "data": {
      "text/plain": [
       "Text(0.5, 1.0, 'Times pf Cycles')"
      ]
     },
     "execution_count": 32,
     "metadata": {},
     "output_type": "execute_result"
    },
    {
     "data": {
      "image/png": "[encoded data removed]",
      "text/plain": [
       "<Figure size 432x288 with 1 Axes>"
      ]
     },
     "metadata": {
      "needs_background": "light"
     },
     "output_type": "display_data"
    }
   ],
   "source": [
    "plt.scatter(range(168),times)\n",
    "plt.legend('B0005 Times')\n",
    "plt.title('Times pf Cycles')"
   ]
  },
  {
   "cell_type": "markdown",
   "metadata": {},
   "source": [
    "SOH의 변화와 Cycle 관찰 시간의 패턴이 유사함을 보인다. "
   ]
  }
 ],
 "metadata": {
  "kernelspec": {
   "display_name": "Python 3",
   "language": "python",
   "name": "python3"
  },
  "language_info": {
   "codemirror_mode": {
    "name": "ipython",
    "version": 3
   },
   "file_extension": ".py",
   "mimetype": "text/x-python",
   "name": "python",
   "nbconvert_exporter": "python",
   "pygments_lexer": "ipython3",
   "version": "3.7.1"
  }
 },
 "nbformat": 4,
 "nbformat_minor": 2
}
